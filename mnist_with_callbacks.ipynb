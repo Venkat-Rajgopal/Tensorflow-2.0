{
 "cells": [
  {
   "cell_type": "markdown",
   "metadata": {},
   "source": [
    "# Simple mnist with callback implementation\n",
    "In this notebook we will see a sample implementation of mnist NN. Also we will see the usage of *Callbacks* in Tensorflow\n",
    "\n",
    "\n",
    "Some notes on implementation:\n",
    "- It should succeed in less than 10 epochs, so it is okay to change epochs= to 10, but nothing larger\n",
    "- When it reaches 99% or greater it should stop training"
   ]
  },
  {
   "cell_type": "code",
   "execution_count": 1,
   "metadata": {},
   "outputs": [],
   "source": [
    "import tensorflow as tf\n",
    "from os import path, getcwd, chdir"
   ]
  },
  {
   "cell_type": "code",
   "execution_count": 14,
   "metadata": {},
   "outputs": [],
   "source": [
    "class myCallback(tf.keras.callbacks.Callback):\n",
    "        def on_epoch_end(self, epoch, logs={}):\n",
    "            if(logs.get('accuracy')>=0.99):\n",
    "              print(\"\\nStop training. Reached 99% accuracy reached!\")\n",
    "              self.model.stop_training = True\n",
    "    \n",
    "def train_mnist():\n",
    "                \n",
    "    callback = myCallback()\n",
    "    \n",
    "    # prepare mnist\n",
    "    mnist = tf.keras.datasets.mnist\n",
    "    (x_train, y_train),(x_test, y_test) = mnist.load_data()\n",
    "    x_train = x_train / 255.0\n",
    "    x_test = x_test / 255.0\n",
    "    \n",
    "    model = tf.keras.models.Sequential([\n",
    "        tf.keras.layers.Flatten(),\n",
    "        tf.keras.layers.Dense(512, activation=tf.nn.relu),\n",
    "        tf.keras.layers.Dense(10, activation=tf.nn.softmax)\n",
    "\n",
    "    ])\n",
    "    \n",
    "    model.compile(optimizer='adam',\n",
    "                  loss='sparse_categorical_crossentropy',\n",
    "                  metrics=['accuracy'])\n",
    "    \n",
    "    # model fitting\n",
    "    history = model.fit(x_train, y_train, epochs = 10, callbacks = [callback])\n",
    "    \n",
    "    return history.epoch, history.history['accuracy'][-1]"
   ]
  },
  {
   "cell_type": "code",
   "execution_count": 15,
   "metadata": {
    "scrolled": true
   },
   "outputs": [
    {
     "name": "stdout",
     "output_type": "stream",
     "text": [
      "Train on 60000 samples\n",
      "Epoch 1/10\n",
      "60000/60000 [==============================] - 4s 74us/sample - loss: 0.2002 - accuracy: 0.9414\n",
      "Epoch 2/10\n",
      "60000/60000 [==============================] - 4s 68us/sample - loss: 0.0818 - accuracy: 0.9750\n",
      "Epoch 3/10\n",
      "60000/60000 [==============================] - 4s 69us/sample - loss: 0.0538 - accuracy: 0.9830\n",
      "Epoch 4/10\n",
      "60000/60000 [==============================] - 4s 69us/sample - loss: 0.0375 - accuracy: 0.9883\n",
      "Epoch 5/10\n",
      "59584/60000 [============================>.] - ETA: 0s - loss: 0.0258 - accuracy: 0.9919\n",
      "Stop training. Reached 99% accuracy reached!\n",
      "60000/60000 [==============================] - 4s 71us/sample - loss: 0.0258 - accuracy: 0.9919\n"
     ]
    },
    {
     "data": {
      "text/plain": [
       "([0, 1, 2, 3, 4], 0.99186665)"
      ]
     },
     "execution_count": 15,
     "metadata": {},
     "output_type": "execute_result"
    }
   ],
   "source": [
    "# call training function\n",
    "train_mnist()"
   ]
  }
 ],
 "metadata": {
  "kernelspec": {
   "display_name": "Python 3",
   "language": "python",
   "name": "python3"
  },
  "language_info": {
   "codemirror_mode": {
    "name": "ipython",
    "version": 3
   },
   "file_extension": ".py",
   "mimetype": "text/x-python",
   "name": "python",
   "nbconvert_exporter": "python",
   "pygments_lexer": "ipython3",
   "version": "3.7.3"
  }
 },
 "nbformat": 4,
 "nbformat_minor": 2
}
