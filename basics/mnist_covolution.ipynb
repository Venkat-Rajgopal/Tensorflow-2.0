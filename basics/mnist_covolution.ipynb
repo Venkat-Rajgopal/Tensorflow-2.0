{
 "cells": [
  {
   "cell_type": "markdown",
   "metadata": {},
   "source": [
    "Create a basic conv architecture. 2 Conv layers of 3x3 filter. "
   ]
  },
  {
   "cell_type": "code",
   "execution_count": 1,
   "metadata": {},
   "outputs": [],
   "source": [
    "import tensorflow as tf"
   ]
  },
  {
   "cell_type": "code",
   "execution_count": 8,
   "metadata": {},
   "outputs": [],
   "source": [
    "def train_mnist_conv():\n",
    "    class StopTrainingCallback(tf.keras.callbacks.Callback):\n",
    "      def on_epoch_end(self, epoch, logs={}):\n",
    "        if (logs.get('accuracy') >= 0.995):\n",
    "          print('\\nReached 99.5% accuracy so cancelling training!')\n",
    "          self.model.stop_training = True\n",
    "\n",
    "    mCallback = StopTrainingCallback()\n",
    "\n",
    "    mnist = tf.keras.datasets.mnist\n",
    "    (training_images, training_labels), (test_images, test_labels) = mnist.load_data()\n",
    "    training_images = training_images.reshape([60000, 28, 28, 1])\n",
    "    training_images = training_images / 255.0;\n",
    "    test_images = test_images.reshape([10000, 28, 28, 1])\n",
    "    test_images = test_images / 255.0;\n",
    "    \n",
    "    # model a cnn \n",
    "    model = tf.keras.models.Sequential([\n",
    "            tf.keras.layers.Conv2D(64, (3,3), activation='relu', input_shape=(28, 28, 1)),\n",
    "            tf.keras.layers.MaxPooling2D(2, 2),\n",
    "            tf.keras.layers.Conv2D(64, (3,3), activation='relu'),\n",
    "            tf.keras.layers.MaxPooling2D(2, 2),\n",
    "            tf.keras.layers.Flatten(),\n",
    "            tf.keras.layers.Dense(128, activation='relu'),\n",
    "            tf.keras.layers.Dense(10, activation='softmax')\n",
    "    ])\n",
    "\n",
    "    model.compile(optimizer='adam', loss='sparse_categorical_crossentropy', metrics=['accuracy'])\n",
    "    history = model.fit(training_images, training_labels, epochs=20, callbacks=[mCallback])\n",
    "\n",
    "    return history.epoch, history.history['accuracy'][-1]"
   ]
  },
  {
   "cell_type": "code",
   "execution_count": 9,
   "metadata": {},
   "outputs": [
    {
     "name": "stdout",
     "output_type": "stream",
     "text": [
      "Train on 60000 samples\n",
      "Epoch 1/20\n",
      "60000/60000 [==============================] - 30s 504us/sample - loss: 0.1226 - accuracy: 0.9624\n",
      "Epoch 2/20\n",
      "60000/60000 [==============================] - 30s 508us/sample - loss: 0.0402 - accuracy: 0.9875\n",
      "Epoch 3/20\n",
      "60000/60000 [==============================] - 33s 547us/sample - loss: 0.0260 - accuracy: 0.9917\n",
      "Epoch 4/20\n",
      "60000/60000 [==============================] - 32s 533us/sample - loss: 0.0191 - accuracy: 0.9941\n",
      "Epoch 5/20\n",
      "59936/60000 [============================>.] - ETA: 0s - loss: 0.0142 - accuracy: 0.9956\n",
      "Reached 99.5% accuracy so cancelling training!\n",
      "60000/60000 [==============================] - 33s 557us/sample - loss: 0.0142 - accuracy: 0.9956\n"
     ]
    },
    {
     "data": {
      "text/plain": [
       "([0, 1, 2, 3, 4], 0.9956333)"
      ]
     },
     "execution_count": 9,
     "metadata": {},
     "output_type": "execute_result"
    }
   ],
   "source": [
    "train_mnist_conv()"
   ]
  }
 ],
 "metadata": {
  "kernelspec": {
   "display_name": "Python 3",
   "language": "python",
   "name": "python3"
  },
  "language_info": {
   "codemirror_mode": {
    "name": "ipython",
    "version": 3
   },
   "file_extension": ".py",
   "mimetype": "text/x-python",
   "name": "python",
   "nbconvert_exporter": "python",
   "pygments_lexer": "ipython3",
   "version": "3.7.3"
  }
 },
 "nbformat": 4,
 "nbformat_minor": 2
}
